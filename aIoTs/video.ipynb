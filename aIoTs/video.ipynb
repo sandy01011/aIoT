{
 "cells": [
  {
   "cell_type": "code",
   "execution_count": null,
   "metadata": {},
   "outputs": [],
   "source": []
  }
 ],
 "metadata": {
  "kernelspec": {
   "display_name": "aIoT",
   "language": "python",
   "name": "python3"
  },
  "language_info": {
   "name": "python",
   "version": "3.10.6 (main, Oct  7 2022, 20:19:58) [GCC 11.2.0]"
  },
  "orig_nbformat": 4,
  "vscode": {
   "interpreter": {
    "hash": "0a1e20bfa4a8bb16246a7fa6ece8e3088adc1868d846b0403f8945fbabad56c6"
   }
  }
 },
 "nbformat": 4,
 "nbformat_minor": 2
}
