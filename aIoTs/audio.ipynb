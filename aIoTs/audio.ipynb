{
 "cells": [
  {
   "attachments": {},
   "cell_type": "markdown",
   "metadata": {},
   "source": [
    "# Audio Analysis\n",
    "audio visuals series \n"
   ]
  },
  {
   "attachments": {},
   "cell_type": "markdown",
   "metadata": {},
   "source": [
    "### Audio sources and data preprations\n",
    "Audio data source:\n",
    "\n",
    "- physical microphone, web interface, message bus, audio files.\n",
    "\n",
    "Data Preprations:\n",
    "\n",
    "- analyse the sound from audio sources.\n",
    "- convert the audio files to numpy, with required share, size and dimension.\n",
    "                  \n"
   ]
  }
 ],
 "metadata": {
  "kernelspec": {
   "display_name": "drishti_bhav_1",
   "language": "python",
   "name": "python3"
  },
  "language_info": {
   "codemirror_mode": {
    "name": "ipython",
    "version": 3
   },
   "file_extension": ".py",
   "mimetype": "text/x-python",
   "name": "python",
   "nbconvert_exporter": "python",
   "pygments_lexer": "ipython3",
   "version": "3.10.4"
  },
  "orig_nbformat": 4,
  "vscode": {
   "interpreter": {
    "hash": "40a19694ad448357b57a8622ff7538d3d59ee73d598b6e2ea4637c394876686f"
   }
  }
 },
 "nbformat": 4,
 "nbformat_minor": 2
}
